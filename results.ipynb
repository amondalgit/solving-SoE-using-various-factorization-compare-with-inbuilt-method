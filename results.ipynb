{
 "cells": [
  {
   "cell_type": "code",
   "execution_count": 1,
   "metadata": {},
   "outputs": [],
   "source": [
    "import helper_functions as hf\n",
    "import pandas as pd\n",
    "import numpy as np\n",
    "import math\n",
    "import scipy.linalg as SLA\n",
    "\n",
    "pd.set_option('display.float_format', '{:.5e}'.format)"
   ]
  },
  {
   "cell_type": "code",
   "execution_count": 2,
   "metadata": {},
   "outputs": [],
   "source": [
    "degree_array = [10]"
   ]
  },
  {
   "cell_type": "code",
   "execution_count": 2,
   "metadata": {},
   "outputs": [
    {
     "data": {
      "text/plain": [
       "(array([[1.        , 0.5       , 0.33333333, 0.25      , 0.2       ],\n",
       "        [0.5       , 0.28867513, 0.28867513, 0.25980762, 0.23094011],\n",
       "        [0.33333333, 0.25      , 0.0745356 , 0.1118034 , 0.12777531],\n",
       "        [0.25      , 0.2       , 0.16666667, 0.01889822, 0.03779645],\n",
       "        [0.2       , 0.16666667, 0.14285714, 0.125     , 0.0047619 ]]),\n",
       " False)"
      ]
     },
     "execution_count": 2,
     "metadata": {},
     "output_type": "execute_result"
    }
   ],
   "source": [
    "degree = 5\n",
    "A, b = hf.get_matrix(degree), hf.get_array(degree)\n",
    "SLA.cho_factor(A)"
   ]
  },
  {
   "cell_type": "code",
   "execution_count": 3,
   "metadata": {},
   "outputs": [
    {
     "name": "stdout",
     "output_type": "stream",
     "text": [
      "[[1.         0.         0.         0.         0.        ]\n",
      " [0.5        0.         0.         0.         0.        ]\n",
      " [0.33333333 0.         0.         0.         0.        ]\n",
      " [0.25       0.         0.         0.         0.        ]\n",
      " [0.2        0.         0.         0.         0.        ]]\n",
      "[[1.         0.         0.         0.         0.        ]\n",
      " [0.5        0.28867513 0.         0.         0.        ]\n",
      " [0.33333333 0.28867513 0.         0.         0.        ]\n",
      " [0.25       0.25980762 0.         0.         0.        ]\n",
      " [0.2        0.23094011 0.         0.         0.        ]]\n",
      "[[1.         0.         0.         0.         0.        ]\n",
      " [0.5        0.28867513 0.         0.         0.        ]\n",
      " [0.33333333 0.28867513 0.0745356  0.         0.        ]\n",
      " [0.25       0.25980762 0.1118034  0.         0.        ]\n",
      " [0.2        0.23094011 0.12777531 0.         0.        ]]\n",
      "[[1.         0.         0.         0.         0.        ]\n",
      " [0.5        0.28867513 0.         0.         0.        ]\n",
      " [0.33333333 0.28867513 0.0745356  0.         0.        ]\n",
      " [0.25       0.25980762 0.1118034  0.01889822 0.        ]\n",
      " [0.2        0.23094011 0.12777531 0.03779645 0.        ]]\n"
     ]
    },
    {
     "name": "stderr",
     "output_type": "stream",
     "text": [
      "d:\\CMI\\SEM 2 JAN-APR-23\\LAA23 ~ Priyavrat Deshpande\\Assignments\\Solutions\\LAA_grpa_5\\helper_functions.py:97: RuntimeWarning: divide by zero encountered in scalar divide\n",
      "  C[i] = (arr[i] - substracting_factor) / mat[i, i]\n",
      "d:\\CMI\\SEM 2 JAN-APR-23\\LAA23 ~ Priyavrat Deshpande\\Assignments\\Solutions\\LAA_grpa_5\\helper_functions.py:243: RuntimeWarning: invalid value encountered in matmul\n",
      "  x = P.T@z                                   # solves for x, here, x = Q*z = trans(P)*z\n"
     ]
    },
    {
     "data": {
      "text/plain": [
       "{'norm': nan, 'time': 4252500.0}"
      ]
     },
     "execution_count": 3,
     "metadata": {},
     "output_type": "execute_result"
    }
   ],
   "source": [
    "hf.CHOP(A,b)"
   ]
  },
  {
   "cell_type": "code",
   "execution_count": 4,
   "metadata": {},
   "outputs": [
    {
     "data": {
      "text/plain": [
       "18"
      ]
     },
     "execution_count": 4,
     "metadata": {},
     "output_type": "execute_result"
    }
   ],
   "source": [
    "np.dot([1,3],[3,5])"
   ]
  },
  {
   "cell_type": "code",
   "execution_count": 7,
   "metadata": {},
   "outputs": [
    {
     "data": {
      "text/plain": [
       "2.23606797749979"
      ]
     },
     "execution_count": 7,
     "metadata": {},
     "output_type": "execute_result"
    }
   ],
   "source": [
    "import math\n",
    "e = 5\n",
    "eval('math.sqrt(e)')"
   ]
  },
  {
   "cell_type": "code",
   "execution_count": 14,
   "metadata": {},
   "outputs": [],
   "source": [
    "import scipy.linalg as SLA\n",
    "\n",
    "k_inv = SLA.inv(hf.get_matrix(10))"
   ]
  },
  {
   "cell_type": "code",
   "execution_count": 2,
   "metadata": {},
   "outputs": [],
   "source": [
    "k = hf.get_matrix(10)"
   ]
  },
  {
   "cell_type": "code",
   "execution_count": 3,
   "metadata": {},
   "outputs": [
    {
     "data": {
      "text/plain": [
       "array([[1.        , 0.5       , 0.33333333, 0.25      , 0.2       ,\n",
       "        0.16666667, 0.14285714, 0.125     , 0.11111111, 0.1       ],\n",
       "       [0.5       , 0.33333333, 0.25      , 0.2       , 0.16666667,\n",
       "        0.14285714, 0.125     , 0.11111111, 0.1       , 0.09090909],\n",
       "       [0.33333333, 0.25      , 0.2       , 0.16666667, 0.14285714,\n",
       "        0.125     , 0.11111111, 0.1       , 0.09090909, 0.08333333],\n",
       "       [0.25      , 0.2       , 0.16666667, 0.14285714, 0.125     ,\n",
       "        0.11111111, 0.1       , 0.09090909, 0.08333333, 0.07692308],\n",
       "       [0.2       , 0.16666667, 0.14285714, 0.125     , 0.11111111,\n",
       "        0.1       , 0.09090909, 0.08333333, 0.07692308, 0.07142857],\n",
       "       [0.16666667, 0.14285714, 0.125     , 0.11111111, 0.1       ,\n",
       "        0.09090909, 0.08333333, 0.07692308, 0.07142857, 0.06666667],\n",
       "       [0.14285714, 0.125     , 0.11111111, 0.1       , 0.09090909,\n",
       "        0.08333333, 0.07692308, 0.07142857, 0.06666667, 0.0625    ],\n",
       "       [0.125     , 0.11111111, 0.1       , 0.09090909, 0.08333333,\n",
       "        0.07692308, 0.07142857, 0.06666667, 0.0625    , 0.05882353],\n",
       "       [0.11111111, 0.1       , 0.09090909, 0.08333333, 0.07692308,\n",
       "        0.07142857, 0.06666667, 0.0625    , 0.05882353, 0.05555556],\n",
       "       [0.1       , 0.09090909, 0.08333333, 0.07692308, 0.07142857,\n",
       "        0.06666667, 0.0625    , 0.05882353, 0.05555556, 0.05263158]])"
      ]
     },
     "execution_count": 3,
     "metadata": {},
     "output_type": "execute_result"
    }
   ],
   "source": [
    "k"
   ]
  },
  {
   "cell_type": "code",
   "execution_count": 8,
   "metadata": {},
   "outputs": [
    {
     "name": "stdout",
     "output_type": "stream",
     "text": [
      "[[1.         0.5        0.33333333 0.25       0.2        0.16666667\n",
      "  0.14285714 0.125      0.11111111 0.1       ]\n",
      " [0.5        0.33333333 0.25       0.2        0.16666667 0.14285714\n",
      "  0.125      0.11111111 0.1        0.09090909]\n",
      " [0.33333333 0.25       0.2        0.125      0.14285714 0.16666667\n",
      "  0.11111111 0.1        0.09090909 0.08333333]\n",
      " [0.25       0.2        0.16666667 0.11111111 0.125      0.14285714\n",
      "  0.1        0.09090909 0.08333333 0.07692308]\n",
      " [0.2        0.16666667 0.14285714 0.1        0.11111111 0.125\n",
      "  0.09090909 0.08333333 0.07692308 0.07142857]\n",
      " [0.16666667 0.14285714 0.125      0.09090909 0.1        0.11111111\n",
      "  0.08333333 0.07692308 0.07142857 0.06666667]\n",
      " [0.14285714 0.125      0.11111111 0.08333333 0.09090909 0.1\n",
      "  0.07692308 0.07142857 0.06666667 0.0625    ]\n",
      " [0.125      0.11111111 0.1        0.07692308 0.08333333 0.09090909\n",
      "  0.07142857 0.06666667 0.0625     0.05882353]\n",
      " [0.11111111 0.1        0.09090909 0.08333333 0.07692308 0.07142857\n",
      "  0.06666667 0.0625     0.05882353 0.05555556]\n",
      " [0.1        0.09090909 0.08333333 0.07692308 0.07142857 0.06666667\n",
      "  0.0625     0.05882353 0.05555556 0.05263158]]\n"
     ]
    }
   ],
   "source": [
    "print(hf.swap_cols(k,3,5,to_row=8))"
   ]
  },
  {
   "cell_type": "code",
   "execution_count": 34,
   "metadata": {},
   "outputs": [],
   "source": [
    "c = k[5:,5:].flatten()"
   ]
  },
  {
   "cell_type": "code",
   "execution_count": 37,
   "metadata": {},
   "outputs": [
    {
     "data": {
      "text/plain": [
       "array([0.11111111, 0.08333333, 0.07692308, 0.07142857, 0.06666667,\n",
       "       0.1       , 0.07692308, 0.07142857, 0.06666667, 0.0625    ,\n",
       "       0.09090909, 0.07142857, 0.06666667, 0.0625    , 0.05882353,\n",
       "       0.07142857, 0.06666667, 0.0625    , 0.05882353, 0.05555556,\n",
       "       0.06666667, 0.0625    , 0.05882353, 0.05555556, 0.05263158])"
      ]
     },
     "execution_count": 37,
     "metadata": {},
     "output_type": "execute_result"
    }
   ],
   "source": [
    "c"
   ]
  },
  {
   "cell_type": "code",
   "execution_count": 36,
   "metadata": {},
   "outputs": [
    {
     "data": {
      "text/plain": [
       "array([0.05263158, 0.05555556, 0.05882353, 0.0625    , 0.06666667,\n",
       "       0.05555556, 0.05882353, 0.0625    , 0.06666667, 0.07142857,\n",
       "       0.05882353, 0.0625    , 0.06666667, 0.07142857, 0.09090909,\n",
       "       0.0625    , 0.06666667, 0.07142857, 0.07692308, 0.1       ,\n",
       "       0.06666667, 0.07142857, 0.07692308, 0.08333333, 0.11111111])"
      ]
     },
     "execution_count": 36,
     "metadata": {},
     "output_type": "execute_result"
    }
   ],
   "source": [
    "np.flip(c)"
   ]
  },
  {
   "cell_type": "code",
   "execution_count": 16,
   "metadata": {},
   "outputs": [
    {
     "data": {
      "text/plain": [
       "99.99944937136024"
      ]
     },
     "execution_count": 16,
     "metadata": {},
     "output_type": "execute_result"
    }
   ],
   "source": [
    "abs(k_inv).min()"
   ]
  }
 ],
 "metadata": {
  "kernelspec": {
   "display_name": "Python 3",
   "language": "python",
   "name": "python3"
  },
  "language_info": {
   "codemirror_mode": {
    "name": "ipython",
    "version": 3
   },
   "file_extension": ".py",
   "mimetype": "text/x-python",
   "name": "python",
   "nbconvert_exporter": "python",
   "pygments_lexer": "ipython3",
   "version": "3.10.4"
  },
  "orig_nbformat": 4
 },
 "nbformat": 4,
 "nbformat_minor": 2
}
